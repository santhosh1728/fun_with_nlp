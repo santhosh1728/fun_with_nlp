{
 "cells": [
  {
   "cell_type": "markdown",
   "id": "fb5838f0",
   "metadata": {},
   "source": [
    "# Translate audio to Text through microphone recording"
   ]
  },
  {
   "cell_type": "code",
   "execution_count": 10,
   "id": "b214804d",
   "metadata": {},
   "outputs": [],
   "source": [
    "import speech_recognition as sr"
   ]
  },
  {
   "cell_type": "code",
   "execution_count": 11,
   "id": "80b643e8",
   "metadata": {},
   "outputs": [],
   "source": [
    "from scipy.io import wavfile"
   ]
  },
  {
   "cell_type": "code",
   "execution_count": 12,
   "id": "7b6936d4",
   "metadata": {},
   "outputs": [],
   "source": [
    "r = sr.Recognizer()"
   ]
  },
  {
   "cell_type": "code",
   "execution_count": 13,
   "id": "d8a30f9c",
   "metadata": {},
   "outputs": [
    {
     "data": {
      "text/plain": [
       "<speech_recognition.Recognizer at 0x24e86c4da50>"
      ]
     },
     "execution_count": 13,
     "metadata": {},
     "output_type": "execute_result"
    }
   ],
   "source": [
    "r"
   ]
  },
  {
   "cell_type": "code",
   "execution_count": 14,
   "id": "4f8bb980",
   "metadata": {},
   "outputs": [],
   "source": [
    "# fs , data = wavfile.read(\"C:\\\\Users\\\\santh\\\\OneDrive\\\\Desktop\\\\song.wav\")"
   ]
  },
  {
   "cell_type": "code",
   "execution_count": 15,
   "id": "073ff342",
   "metadata": {
    "scrolled": true
   },
   "outputs": [
    {
     "name": "stdout",
     "output_type": "stream",
     "text": [
      "say something...\n",
      "you were saying...\n",
      "what is the music\n"
     ]
    }
   ],
   "source": [
    "#///-> record audio and convert into text\n",
    "\n",
    "\n",
    "with sr.Microphone() as source:\n",
    "    print(\"say something...\")\n",
    "    audio = r.listen(source,timeout = 10)\n",
    "    \n",
    "    try:\n",
    "        text = r.recognize_google(audio)\n",
    "        print('you were saying...')\n",
    "        print(text)\n",
    "    except:\n",
    "        print('sorry. plese try again')"
   ]
  },
  {
   "cell_type": "markdown",
   "id": "086d07c6",
   "metadata": {},
   "source": [
    "Convert Audio into Text Data# "
   ]
  },
  {
   "cell_type": "code",
   "execution_count": 16,
   "id": "98603f76",
   "metadata": {},
   "outputs": [],
   "source": [
    "import speech_recognition as sr"
   ]
  },
  {
   "cell_type": "code",
   "execution_count": 17,
   "id": "c3832492",
   "metadata": {},
   "outputs": [],
   "source": [
    "r = sr.Recognizer()"
   ]
  },
  {
   "cell_type": "code",
   "execution_count": 18,
   "id": "385bcdfc",
   "metadata": {},
   "outputs": [],
   "source": [
    "# with sr.AudioFile(r,'C:\\\\Users\\\\santh\\\\OneDrive\\\\Desktop\\\\music.mp3') as source:\n",
    "#     audio = r.listen(source)"
   ]
  },
  {
   "cell_type": "code",
   "execution_count": 10,
   "id": "e805c2b0",
   "metadata": {},
   "outputs": [],
   "source": [
    "from scipy.io import wavfile"
   ]
  },
  {
   "cell_type": "markdown",
   "id": "d3195c1b",
   "metadata": {},
   "source": [
    "#### Text to Speech Conversion"
   ]
  },
  {
   "cell_type": "code",
   "execution_count": 11,
   "id": "dd5c4197",
   "metadata": {},
   "outputs": [],
   "source": [
    "text = \"Silicon Valley felt sluggish, too. Japan seemed to be winning the semiconductor war. The internet had yet to take off, partly because its commercial use was restricted until late 1992 and partly due to the lack of user-friendly web browsers. It’s telling that when I arrived Stanford in 1985, economics, not computer science, was the most popular major. To most people on campus, the tech sector  or even provincial.\""
   ]
  },
  {
   "cell_type": "code",
   "execution_count": 12,
   "id": "cbf010c1",
   "metadata": {},
   "outputs": [
    {
     "name": "stdout",
     "output_type": "stream",
     "text": [
      "Requirement already satisfied: gTTS in c:\\users\\santh\\virtualbox vms\\linux\\snapshots\\lib\\site-packages (2.3.2)\n",
      "Requirement already satisfied: requests<3,>=2.27 in c:\\users\\santh\\virtualbox vms\\linux\\snapshots\\lib\\site-packages (from gTTS) (2.31.0)\n",
      "Requirement already satisfied: click<8.2,>=7.1 in c:\\users\\santh\\virtualbox vms\\linux\\snapshots\\lib\\site-packages (from gTTS) (8.0.4)\n",
      "Requirement already satisfied: colorama in c:\\users\\santh\\virtualbox vms\\linux\\snapshots\\lib\\site-packages (from click<8.2,>=7.1->gTTS) (0.4.6)\n",
      "Requirement already satisfied: charset-normalizer<4,>=2 in c:\\users\\santh\\virtualbox vms\\linux\\snapshots\\lib\\site-packages (from requests<3,>=2.27->gTTS) (2.0.4)\n",
      "Requirement already satisfied: idna<4,>=2.5 in c:\\users\\santh\\virtualbox vms\\linux\\snapshots\\lib\\site-packages (from requests<3,>=2.27->gTTS) (3.4)\n",
      "Requirement already satisfied: urllib3<3,>=1.21.1 in c:\\users\\santh\\virtualbox vms\\linux\\snapshots\\lib\\site-packages (from requests<3,>=2.27->gTTS) (1.26.16)\n",
      "Requirement already satisfied: certifi>=2017.4.17 in c:\\users\\santh\\virtualbox vms\\linux\\snapshots\\lib\\site-packages (from requests<3,>=2.27->gTTS) (2023.7.22)\n",
      "Note: you may need to restart the kernel to use updated packages.\n"
     ]
    }
   ],
   "source": [
    "pip install gTTS"
   ]
  },
  {
   "cell_type": "code",
   "execution_count": 6,
   "id": "be921a48",
   "metadata": {},
   "outputs": [],
   "source": [
    "from gtts import gTTS as g"
   ]
  },
  {
   "cell_type": "code",
   "execution_count": 4,
   "id": "04500ef7",
   "metadata": {},
   "outputs": [],
   "source": [
    "# obj =  g(text = text)\n",
    "# obj.save(\"C:\\\\Users\\\\santh\\\\OneDrive\\\\Desktop\\\\music.mp3\")"
   ]
  },
  {
   "cell_type": "code",
   "execution_count": 5,
   "id": "fb144dc9",
   "metadata": {},
   "outputs": [],
   "source": [
    "# spanish = \"Es como una buena historia de amor - siempre vale la pena esperar. La tradición que los cronistas nos han hecho llegar sobre su concepción tiene categoría de leyenda.\""
   ]
  },
  {
   "cell_type": "code",
   "execution_count": 6,
   "id": "0647efc5",
   "metadata": {},
   "outputs": [],
   "source": [
    "# obj2 = g(text = spanish)\n",
    "# obj2.save(\"C:\\\\Users\\\\santh\\\\OneDrive\\\\Desktop\\\\spanish.mp3\")"
   ]
  },
  {
   "cell_type": "code",
   "execution_count": 7,
   "id": "aed28d63",
   "metadata": {},
   "outputs": [],
   "source": [
    "text1 = \"santhosh chala manchi vadu\""
   ]
  },
  {
   "cell_type": "code",
   "execution_count": 7,
   "id": "257c9a1d",
   "metadata": {},
   "outputs": [],
   "source": [
    "text = \"Professors downplay the cutthroat culture of academia, but managers never tire of comparing business to war. MBA students carry around copies of Clausewitz and Sun Tzu. War metaphors invade our everyday business language: we use headhunters to  build up a sales force that will enable us to take a captive market and make a killing. But really it’s competition, not business, that is like war: allegedly necessary, supposedly valiant, but ultimately destructive.\""
   ]
  },
  {
   "cell_type": "code",
   "execution_count": 8,
   "id": "fc6ec5cc",
   "metadata": {},
   "outputs": [],
   "source": [
    "obj3 = g(text = text)\n",
    "obj3.save(\"C:\\\\Users\\\\santh\\\\OneDrive\\\\Desktop\\\\test.mp3\")"
   ]
  },
  {
   "cell_type": "code",
   "execution_count": null,
   "id": "5fc3d733",
   "metadata": {},
   "outputs": [],
   "source": []
  },
  {
   "cell_type": "code",
   "execution_count": null,
   "id": "9b82586c",
   "metadata": {},
   "outputs": [],
   "source": []
  }
 ],
 "metadata": {
  "kernelspec": {
   "display_name": "Python 3 (ipykernel)",
   "language": "python",
   "name": "python3"
  },
  "language_info": {
   "codemirror_mode": {
    "name": "ipython",
    "version": 3
   },
   "file_extension": ".py",
   "mimetype": "text/x-python",
   "name": "python",
   "nbconvert_exporter": "python",
   "pygments_lexer": "ipython3",
   "version": "3.11.4"
  }
 },
 "nbformat": 4,
 "nbformat_minor": 5
}
